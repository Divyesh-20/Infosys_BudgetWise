{
 "cells": [
  {
   "cell_type": "code",
   "execution_count": 1,
   "id": "fc0cc6d3",
   "metadata": {},
   "outputs": [
    {
     "name": "stdout",
     "output_type": "stream",
     "text": [
      "  transaction_id user_id        date transaction_type       category   amount  \\\n",
      "0          T4999    U018  2023-04-25          Expense      Education   3888.0   \n",
      "1         T12828    U133  2022-08-05          Expense           Rent    649.0   \n",
      "2          T7403    U091  2023-12-31           Income      Freelance  13239.0   \n",
      "3          T7495    U088  2022-10-28          Expense  Entertainment   2287.0   \n",
      "4         T12465    U042  2024-04-11          Expense           Food   4168.0   \n",
      "\n",
      "  payment_mode   location          notes  \n",
      "0         Card  Ahmedabad  Movie tickets  \n",
      "1      Unknown  Hyderabad         asdfgh  \n",
      "2         Cash        BAN          Books  \n",
      "3         Card  Hyderabad       No notes  \n",
      "4      Unknown    Unknown           test  \n",
      "<class 'pandas.core.frame.DataFrame'>\n",
      "RangeIndex: 11875 entries, 0 to 11874\n",
      "Data columns (total 9 columns):\n",
      " #   Column            Non-Null Count  Dtype  \n",
      "---  ------            --------------  -----  \n",
      " 0   transaction_id    11875 non-null  object \n",
      " 1   user_id           11875 non-null  object \n",
      " 2   date              11875 non-null  object \n",
      " 3   transaction_type  11875 non-null  object \n",
      " 4   category          11875 non-null  object \n",
      " 5   amount            11875 non-null  float64\n",
      " 6   payment_mode      11875 non-null  object \n",
      " 7   location          11875 non-null  object \n",
      " 8   notes             11875 non-null  object \n",
      "dtypes: float64(1), object(8)\n",
      "memory usage: 835.1+ KB\n",
      "None\n",
      "       transaction_id user_id        date transaction_type category  \\\n",
      "count           11875   11875       11875            11875    11875   \n",
      "unique          10628     150        1460                2       13   \n",
      "top             T8639    U004  2024-05-13          Expense     Food   \n",
      "freq                5     105          20            10047     2524   \n",
      "mean              NaN     NaN         NaN              NaN      NaN   \n",
      "std               NaN     NaN         NaN              NaN      NaN   \n",
      "min               NaN     NaN         NaN              NaN      NaN   \n",
      "25%               NaN     NaN         NaN              NaN      NaN   \n",
      "50%               NaN     NaN         NaN              NaN      NaN   \n",
      "75%               NaN     NaN         NaN              NaN      NaN   \n",
      "max               NaN     NaN         NaN              NaN      NaN   \n",
      "\n",
      "              amount payment_mode location     notes  \n",
      "count   1.187500e+04        11875    11875     11875  \n",
      "unique           NaN            5       41        27  \n",
      "top              NaN         Card  Unknown  No notes  \n",
      "freq             NaN         2879      942      2071  \n",
      "mean    5.158932e+06          NaN      NaN       NaN  \n",
      "std     7.148893e+07          NaN      NaN       NaN  \n",
      "min     5.100000e+01          NaN      NaN       NaN  \n",
      "25%     2.985000e+03          NaN      NaN       NaN  \n",
      "50%     6.073000e+03          NaN      NaN       NaN  \n",
      "75%     9.637500e+03          NaN      NaN       NaN  \n",
      "max     1.000000e+09          NaN      NaN       NaN  \n",
      "Index(['transaction_id', 'user_id', 'date', 'transaction_type', 'category',\n",
      "       'amount', 'payment_mode', 'location', 'notes'],\n",
      "      dtype='object')\n"
     ]
    }
   ],
   "source": [
    "import pandas as pd\n",
    "\n",
    "df = pd.read_csv('dataset_cleaned.csv')\n",
    "print(df.head())\n",
    "print(df.info())\n",
    "print(df.describe(include='all'))\n",
    "print(df.columns)\n"
   ]
  },
  {
   "cell_type": "code",
   "execution_count": 3,
   "id": "aa828016",
   "metadata": {},
   "outputs": [
    {
     "name": "stdout",
     "output_type": "stream",
     "text": [
      "        date  year  month  day    weekday\n",
      "0 2023-04-25  2023      4   25    Tuesday\n",
      "1 2022-08-05  2022      8    5     Friday\n",
      "2 2023-12-31  2023     12   31     Sunday\n",
      "3 2022-10-28  2022     10   28     Friday\n",
      "4 2024-04-11  2024      4   11   Thursday\n",
      "5 2024-12-12  2024     12   12   Thursday\n",
      "6 2023-11-10  2023     11   10     Friday\n",
      "7 2022-04-15  2022      4   15     Friday\n",
      "8 2022-06-29  2022      6   29  Wednesday\n",
      "9 2022-02-24  2022      2   24   Thursday\n"
     ]
    }
   ],
   "source": [
    "df['date'] = pd.to_datetime(df['date'], errors='coerce')\n",
    "df['year'] = df['date'].dt.year\n",
    "df['month'] = df['date'].dt.month\n",
    "df['day'] = df['date'].dt.day\n",
    "df['weekday'] = df['date'].dt.day_name()\n",
    "\n",
    "\n",
    "print(df[['date', 'year', 'month', 'day', 'weekday']].head(10))\n"
   ]
  },
  {
   "cell_type": "code",
   "execution_count": 6,
   "id": "de301b5d",
   "metadata": {},
   "outputs": [
    {
     "name": "stdout",
     "output_type": "stream",
     "text": [
      "         category category_group\n",
      "7       Utilities          bills\n",
      "0       Education      education\n",
      "3   Entertainment  entertainment\n",
      "4            Food           food\n",
      "2       Freelance         income\n",
      "5          Salary         income\n",
      "59          Bonus         income\n",
      "22     Investment     investment\n",
      "43        Savings     investment\n",
      "6          Others          other\n",
      "26         Health          other\n",
      "1            Rent           rent\n",
      "20         Travel         travel\n"
     ]
    }
   ],
   "source": [
    "category_mapping = {\n",
    "    'food': 'food',\n",
    "    'grocery': 'food',\n",
    "    'rent': 'rent',\n",
    "    'housing': 'rent',\n",
    "    'travel': 'travel',\n",
    "    'transport': 'travel',\n",
    "    'hotel': 'travel',\n",
    "    'flight': 'travel',\n",
    "    'shopping': 'shopping',\n",
    "    'clothing': 'shopping',\n",
    "    'apparel': 'shopping',\n",
    "    'entertainment': 'entertainment',\n",
    "    'education': 'education',\n",
    "    'salary': 'income',\n",
    "    'freelance': 'income',\n",
    "    'bonus': 'income',\n",
    "    'utilities': 'bills',\n",
    "    'electricity': 'bills',\n",
    "    'investment': 'investment',\n",
    "    'savings': 'investment',\n",
    "    'others': 'other',\n",
    "    'unknown': 'other'\n",
    "}\n",
    "\n",
    "def improved_map_category(cat):\n",
    "    cat = str(cat).lower()\n",
    "    return category_mapping.get(cat, 'other')\n",
    "\n",
    "df['category_group'] = df['category'].apply(improved_map_category)\n",
    "\n",
    "print(df[['category', 'category_group']].drop_duplicates().sort_values('category_group'))\n"
   ]
  },
  {
   "cell_type": "code",
   "execution_count": 14,
   "id": "2a48a90f",
   "metadata": {},
   "outputs": [
    {
     "name": "stdout",
     "output_type": "stream",
     "text": [
      "Duplicates before removal: 686\n"
     ]
    }
   ],
   "source": [
    "df = pd.read_csv('dataset_cleaned.csv')\n",
    "print(\"Duplicates before removal:\", df.duplicated().sum())\n"
   ]
  },
  {
   "cell_type": "code",
   "execution_count": null,
   "id": "8e99dc4e",
   "metadata": {},
   "outputs": [
    {
     "name": "stdout",
     "output_type": "stream",
     "text": [
      "0\n"
     ]
    }
   ],
   "source": [
    "df = pd.read_csv('dataset_cleaned.csv')\n",
    "\n",
    "df['date'] = pd.to_datetime(df['date'], errors='coerce')\n",
    "\n",
    "df['completeness'] = (\n",
    "    df['amount'].notnull().astype(int) +\n",
    "    df['notes'].apply(lambda x: 0 if pd.isna(x) or str(x).strip() == '' else 1) +\n",
    "    df['payment_mode'].apply(lambda x: 0 if x == 'Unknown' else 1) +\n",
    "    df['location'].apply(lambda x: 0 if x == 'Unknown' else 1)\n",
    ")\n",
    "\n",
    "df.sort_values(by=['transaction_id', 'completeness', 'date'], ascending=[True, False, False], inplace=True)\n",
    "\n",
    "df = df.drop_duplicates(subset='transaction_id', keep='first')\n",
    "\n",
    "df.drop(columns=['completeness'], inplace=True)\n",
    "\n",
    "print(df['transaction_id'].duplicated().sum())\n",
    "\n"
   ]
  },
  {
   "cell_type": "code",
   "execution_count": 16,
   "id": "057777bb",
   "metadata": {},
   "outputs": [],
   "source": [
    "category_mapping = {\n",
    "    'food': 'food',\n",
    "    'grocery': 'food',\n",
    "    'rent': 'rent',\n",
    "    'housing': 'rent',\n",
    "    'travel': 'travel',\n",
    "    'transport': 'travel',\n",
    "    'hotel': 'travel',\n",
    "    'flight': 'travel',\n",
    "    'shopping': 'shopping',\n",
    "    'clothing': 'shopping',\n",
    "    'apparel': 'shopping',\n",
    "    'entertainment': 'entertainment',\n",
    "    'education': 'education',\n",
    "    'salary': 'income',\n",
    "    'freelance': 'income',\n",
    "    'bonus': 'income',\n",
    "    'utilities': 'bills',\n",
    "    'electricity': 'bills',\n",
    "    'investment': 'investment',\n",
    "    'savings': 'investment',\n",
    "    'others': 'other',\n",
    "    'unknown': 'other'\n",
    "}\n",
    "\n",
    "def improved_map_category(cat):\n",
    "    cat = str(cat).lower()\n",
    "    return category_mapping.get(cat, 'other')\n",
    "\n",
    "df['category_group'] = df['category'].apply(improved_map_category)\n"
   ]
  },
  {
   "cell_type": "code",
   "execution_count": null,
   "id": "bea88e6c",
   "metadata": {},
   "outputs": [
    {
     "name": "stdout",
     "output_type": "stream",
     "text": [
      "     transaction_id user_id       date transaction_type   category    amount  \\\n",
      "3052          T0021    U081 2023-11-14           Income     Salary  945687.0   \n",
      "7620          T0123    U085 2021-07-15           Income      Bonus  177959.0   \n",
      "558           T0163    U098 2021-12-20           Income     Others  749253.0   \n",
      "1887          T0212    U003 2022-12-10           Income      Bonus  436526.0   \n",
      "4958          T0290    U037 2021-07-21           Income  Freelance  506415.0   \n",
      "\n",
      "       payment_mode   location                 notes category_group  \\\n",
      "3052           Card  hyderabad              No notes         income   \n",
      "7620           Cash  Hyderabad  Monthly rent payment         income   \n",
      "558   Bank Transfer  AHMEDABAD      Electricity bill          other   \n",
      "1887           Cash    KOLKATA  Monthly rent payment         income   \n",
      "4958           Cash    LUCKNOW         Online course         income   \n",
      "\n",
      "      is_outlier  \n",
      "3052        True  \n",
      "7620        True  \n",
      "558         True  \n",
      "1887        True  \n",
      "4958        True  \n",
      "Total outliers detected: 204\n"
     ]
    }
   ],
   "source": [
    "import numpy as np\n",
    "\n",
    "df['is_outlier'] = False\n",
    "\n",
    "group_cols = ['transaction_type', 'category_group']\n",
    "\n",
    "for group_keys, group_df in df.groupby(group_cols):\n",
    "    q1 = group_df['amount'].quantile(0.25)\n",
    "    q3 = group_df['amount'].quantile(0.75)\n",
    "    iqr = q3 - q1\n",
    "\n",
    "    lower_bound = q1 - 1.5 * iqr\n",
    "    upper_bound = q3 + 1.5 * iqr\n",
    "\n",
    "    outlier_mask = (group_df['amount'] < lower_bound) | (group_df['amount'] > upper_bound)\n",
    "    df.loc[group_df[outlier_mask].index, 'is_outlier'] = True\n",
    "\n",
    "print(df[df['is_outlier']].head())\n",
    "\n",
    "print(\"Total outliers detected:\", df['is_outlier'].sum())\n",
    "\n"
   ]
  },
  {
   "cell_type": "code",
   "execution_count": null,
   "id": "bb88a458",
   "metadata": {},
   "outputs": [],
   "source": [
    "import numpy as np\n",
    "\n",
    "for group_keys, group_df in df.groupby(['transaction_type', 'category_group']):\n",
    "    q1 = group_df['amount'].quantile(0.25)\n",
    "    q3 = group_df['amount'].quantile(0.75)\n",
    "    iqr = q3 - q1\n",
    "    lower = q1 - 1.5 * iqr\n",
    "    upper = q3 + 1.5 * iqr\n",
    "\n",
    "    idx = group_df.index\n",
    "    df.loc[idx, 'amount'] = np.clip(df.loc[idx, 'amount'], lower, upper)\n"
   ]
  },
  {
   "cell_type": "code",
   "execution_count": null,
   "id": "404dba68",
   "metadata": {},
   "outputs": [
    {
     "name": "stdout",
     "output_type": "stream",
     "text": [
      "Remaining outliers after capping: 0\n"
     ]
    }
   ],
   "source": [
    "df['is_outlier'] = False\n",
    "\n",
    "for group_keys, group_df in df.groupby(['transaction_type', 'category_group']):\n",
    "    q1 = group_df['amount'].quantile(0.25)\n",
    "    q3 = group_df['amount'].quantile(0.75)\n",
    "    iqr = q3 - q1\n",
    "    lower = q1 - 1.5 * iqr\n",
    "    upper = q3 + 1.5 * iqr\n",
    "\n",
    "    outlier_mask = (group_df['amount'] < lower) | (group_df['amount'] > upper)\n",
    "    df.loc[group_df[outlier_mask].index, 'is_outlier'] = True\n",
    "\n",
    "print(\"Remaining outliers after capping:\", df['is_outlier'].sum())\n"
   ]
  },
  {
   "cell_type": "code",
   "execution_count": 22,
   "id": "4e17d2c3",
   "metadata": {},
   "outputs": [
    {
     "name": "stdout",
     "output_type": "stream",
     "text": [
      "     transaction_id user_id       date transaction_type   category   amount  \\\n",
      "9945          T0002    U072 2021-01-14          Expense    Savings   5614.0   \n",
      "3185          T0003    U097 2022-08-24          Expense     Health    850.0   \n",
      "7651          T0004    U091 2022-07-01          Expense     Travel   4110.0   \n",
      "4421          T0006    U036 2021-07-06           Income  Freelance  18326.0   \n",
      "3098          T0008    U042 2023-12-23          Expense       Food   2569.0   \n",
      "\n",
      "       payment_mode   location              notes category_group  is_outlier  \n",
      "9945            UPI  ahmedabad  Restaurant dinner     investment       False  \n",
      "3185           Card  ahmedabad               misc          other       False  \n",
      "7651           Card        MUM     Gym membership         travel       False  \n",
      "4421  Bank Transfer        JAI   Grocery shopping         income       False  \n",
      "3098           Cash      Delhi      Fixed deposit           food       False  \n",
      "     transaction_id user_id       date transaction_type category   amount  \\\n",
      "550           T9995    U025 2024-04-20           Income    Bonus  28581.0   \n",
      "4336          T9996    U061 2022-02-26           Income   Salary  65055.0   \n",
      "352           T9997    U105 2022-06-23          Expense   Travel   9991.0   \n",
      "4371          T9998    U114 2022-04-17           Income   Salary  65607.0   \n",
      "2687          T9999    U013 2023-03-20          Expense   Travel   8520.0   \n",
      "\n",
      "       payment_mode location             notes category_group  is_outlier  \n",
      "550   Bank Transfer  Unknown     Online course         income       False  \n",
      "4336           Cash   jaipur    ATM withdrawal         income       False  \n",
      "352   Bank Transfer  Unknown  Grocery shopping         travel       False  \n",
      "4371           Cash  Lucknow          Medicine         income       False  \n",
      "2687           Card  Unknown            asdfgh         travel       False  \n",
      "<class 'pandas.core.frame.DataFrame'>\n",
      "Index: 10628 entries, 9945 to 2687\n",
      "Data columns (total 11 columns):\n",
      " #   Column            Non-Null Count  Dtype         \n",
      "---  ------            --------------  -----         \n",
      " 0   transaction_id    10628 non-null  object        \n",
      " 1   user_id           10628 non-null  object        \n",
      " 2   date              10628 non-null  datetime64[ns]\n",
      " 3   transaction_type  10628 non-null  object        \n",
      " 4   category          10628 non-null  object        \n",
      " 5   amount            10628 non-null  float64       \n",
      " 6   payment_mode      10628 non-null  object        \n",
      " 7   location          10628 non-null  object        \n",
      " 8   notes             10628 non-null  object        \n",
      " 9   category_group    10628 non-null  object        \n",
      " 10  is_outlier        10628 non-null  bool          \n",
      "dtypes: bool(1), datetime64[ns](1), float64(1), object(8)\n",
      "memory usage: 1.2+ MB\n",
      "None\n",
      "                                date         amount\n",
      "count                          10628   10628.000000\n",
      "mean   2023-01-17 12:10:34.098607616   13175.503152\n",
      "min              2021-01-01 00:00:00      54.000000\n",
      "25%              2022-01-18 00:00:00    2955.000000\n",
      "50%              2023-01-25 00:00:00    6077.000000\n",
      "75%              2024-01-20 00:00:00    9619.750000\n",
      "max              2024-12-31 00:00:00  120968.500000\n",
      "std                              NaN   19506.268461\n",
      "Index(['transaction_id', 'user_id', 'date', 'transaction_type', 'category',\n",
      "       'amount', 'payment_mode', 'location', 'notes', 'category_group',\n",
      "       'is_outlier'],\n",
      "      dtype='object')\n",
      "Final row count: 10628\n"
     ]
    }
   ],
   "source": [
    "print(df.head())  # See first 5 rows\n",
    "print(df.tail())  # See last 5 rows\n",
    "print(df.info())  # Data types and non-null counts\n",
    "print(df.describe())  # Numeric stats, especially for 'amount'\n",
    "print(df.columns)\n",
    "print(\"Final row count:\", len(df))\n"
   ]
  },
  {
   "cell_type": "code",
   "execution_count": 24,
   "id": "e0b9aa96",
   "metadata": {},
   "outputs": [
    {
     "name": "stdout",
     "output_type": "stream",
     "text": [
      "['Bonus', 'Education', 'Entertainment', 'Food', 'Freelance', 'Health', 'Investment', 'Others', 'Rent', 'Salary', 'Savings', 'Travel', 'Utilities']\n",
      "category\n",
      "Food             2249\n",
      "Rent             1806\n",
      "Travel           1317\n",
      "Utilities        1063\n",
      "Entertainment     893\n",
      "Education         691\n",
      "Others            682\n",
      "Health            416\n",
      "Investment        326\n",
      "Freelance         318\n",
      "Salary            316\n",
      "Bonus             296\n",
      "Savings           255\n",
      "Name: count, dtype: int64\n"
     ]
    }
   ],
   "source": [
    "print(sorted(df['category'].unique()))\n",
    "print(df['category'].value_counts())\n",
    "\n"
   ]
  }
 ],
 "metadata": {
  "kernelspec": {
   "display_name": ".venv",
   "language": "python",
   "name": "python3"
  },
  "language_info": {
   "codemirror_mode": {
    "name": "ipython",
    "version": 3
   },
   "file_extension": ".py",
   "mimetype": "text/x-python",
   "name": "python",
   "nbconvert_exporter": "python",
   "pygments_lexer": "ipython3",
   "version": "3.12.3"
  }
 },
 "nbformat": 4,
 "nbformat_minor": 5
}
