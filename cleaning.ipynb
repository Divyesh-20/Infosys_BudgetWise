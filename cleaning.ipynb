{
 "cells": [
  {
   "cell_type": "code",
   "execution_count": 47,
   "id": "6b5427a6",
   "metadata": {},
   "outputs": [
    {
     "name": "stdout",
     "output_type": "stream",
     "text": [
      "Requirement already satisfied: pandas in c:\\users\\shind\\onedrive\\documents\\infosys_budgetwise\\.venv\\lib\\site-packages (2.3.3)\n",
      "Requirement already satisfied: numpy>=1.26.0 in c:\\users\\shind\\onedrive\\documents\\infosys_budgetwise\\.venv\\lib\\site-packages (from pandas) (2.3.3)\n",
      "Requirement already satisfied: python-dateutil>=2.8.2 in c:\\users\\shind\\onedrive\\documents\\infosys_budgetwise\\.venv\\lib\\site-packages (from pandas) (2.9.0.post0)\n",
      "Requirement already satisfied: pytz>=2020.1 in c:\\users\\shind\\onedrive\\documents\\infosys_budgetwise\\.venv\\lib\\site-packages (from pandas) (2025.2)\n",
      "Requirement already satisfied: tzdata>=2022.7 in c:\\users\\shind\\onedrive\\documents\\infosys_budgetwise\\.venv\\lib\\site-packages (from pandas) (2025.2)\n",
      "Requirement already satisfied: six>=1.5 in c:\\users\\shind\\onedrive\\documents\\infosys_budgetwise\\.venv\\lib\\site-packages (from python-dateutil>=2.8.2->pandas) (1.17.0)\n"
     ]
    }
   ],
   "source": [
    "!pip install pandas"
   ]
  },
  {
   "cell_type": "code",
   "execution_count": 48,
   "id": "9af1643d",
   "metadata": {},
   "outputs": [
    {
     "name": "stdout",
     "output_type": "stream",
     "text": [
      "  transaction_id user_id        date transaction_type       category amount  \\\n",
      "0          T4999    U018  2023-04-25          Expense       Educaton   3888   \n",
      "1         T12828    U133  08/05/2022          Expense           rent    649   \n",
      "2          T7403    U091    31-12-23           Income      Freelance  13239   \n",
      "3         T12350    U097         NaN          Expense            Fod   6299   \n",
      "4          T7495    U088  10/28/2022          Expense  entertainment   2287   \n",
      "\n",
      "    payment_mode   location             notes  \n",
      "0           card  Ahmedabad     Movie tickets  \n",
      "1            NaN  Hyderabad            asdfgh  \n",
      "2            Csh        BAN             Books  \n",
      "3  Bank Transfer  AHMEDABAD  Electricity bill  \n",
      "4           CARD  Hyderabad               NaN  \n",
      "\n",
      " ________________________________________________INFO__________________________________________ \n",
      "\n",
      "<class 'pandas.core.frame.DataFrame'>\n",
      "RangeIndex: 15900 entries, 0 to 15899\n",
      "Data columns (total 9 columns):\n",
      " #   Column            Non-Null Count  Dtype \n",
      "---  ------            --------------  ----- \n",
      " 0   transaction_id    15900 non-null  object\n",
      " 1   user_id           15900 non-null  object\n",
      " 2   date              15414 non-null  object\n",
      " 3   transaction_type  15900 non-null  object\n",
      " 4   category          15615 non-null  object\n",
      " 5   amount            15609 non-null  object\n",
      " 6   payment_mode      15092 non-null  object\n",
      " 7   location          14638 non-null  object\n",
      " 8   notes             13079 non-null  object\n",
      "dtypes: object(9)\n",
      "memory usage: 1.1+ MB\n",
      "None\n"
     ]
    }
   ],
   "source": [
    "import pandas as pd\n",
    "\n",
    "df = pd.read_csv('budgetwise_finance_dataset.csv')\n",
    "\n",
    "print(df.head())\n",
    "print(\"\\n ________________________________________________INFO__________________________________________ \\n\")\n",
    "print(df.info()) \n"
   ]
  },
  {
   "cell_type": "code",
   "execution_count": 49,
   "id": "3003fa6c",
   "metadata": {},
   "outputs": [
    {
     "name": "stdout",
     "output_type": "stream",
     "text": [
      "['2023-04-25' '08/05/2022' '31-12-23' nan '10/28/2022' '04/11/2024'\n",
      " '08/16/2022' '2024-12-12' '13-03-24' '11/10/2023' '2022-04-15'\n",
      " '2021-04-18' '06/29/2022' '02/24/2022' '08/28/2023' '02-06-23' '17-07-24'\n",
      " '2021-02-27' '21-09-2024' '25-02-23']\n"
     ]
    }
   ],
   "source": [
    "\n",
    "print(raw_dates['date'].unique()[:20])\n"
   ]
  },
  {
   "cell_type": "code",
   "execution_count": 50,
   "id": "81b0d63d",
   "metadata": {},
   "outputs": [
    {
     "name": "stdout",
     "output_type": "stream",
     "text": [
      "  transaction_id user_id       date transaction_type       category amount  \\\n",
      "0          T4999    U018 2023-04-25          Expense       Educaton   3888   \n",
      "1         T12828    U133 2022-08-05          Expense           rent    649   \n",
      "2          T7403    U091 2023-12-31           Income      Freelance  13239   \n",
      "3          T7495    U088 2022-10-28          Expense  entertainment   2287   \n",
      "4         T12465    U042 2024-04-11          Expense          Foods   4168   \n",
      "\n",
      "  payment_mode   location          notes  \n",
      "0         card  Ahmedabad  Movie tickets  \n",
      "1          NaN  Hyderabad         asdfgh  \n",
      "2          Csh        BAN          Books  \n",
      "3         CARD  Hyderabad            NaN  \n",
      "4          NaN        NaN           test  \n",
      "\n",
      " ________________________________________________INFO__________________________________________ \n",
      "\n",
      "<class 'pandas.core.frame.DataFrame'>\n",
      "RangeIndex: 15414 entries, 0 to 15413\n",
      "Data columns (total 9 columns):\n",
      " #   Column            Non-Null Count  Dtype         \n",
      "---  ------            --------------  -----         \n",
      " 0   transaction_id    15414 non-null  object        \n",
      " 1   user_id           15414 non-null  object        \n",
      " 2   date              15414 non-null  datetime64[ns]\n",
      " 3   transaction_type  15414 non-null  object        \n",
      " 4   category          15134 non-null  object        \n",
      " 5   amount            15129 non-null  object        \n",
      " 6   payment_mode      14624 non-null  object        \n",
      " 7   location          14185 non-null  object        \n",
      " 8   notes             12684 non-null  object        \n",
      "dtypes: datetime64[ns](1), object(8)\n",
      "memory usage: 1.1+ MB\n",
      "None\n"
     ]
    }
   ],
   "source": [
    "from datetime import datetime\n",
    "\n",
    "date_formats = [\n",
    "    \"%Y-%m-%d\",  \n",
    "    \"%m/%d/%Y\",  \n",
    "    \"%d-%m-%y\",  \n",
    "    \"%d-%m-%Y\",  \n",
    "]\n",
    "\n",
    "def parse_flexible_date(date_str):\n",
    "    for fmt in date_formats:\n",
    "        try:\n",
    "            return datetime.strptime(date_str, fmt)\n",
    "        except:\n",
    "            continue\n",
    "    return pd.NaT\n",
    "\n",
    "df['date'] = df['date'].apply(lambda x: parse_flexible_date(str(x)) if pd.notna(x) else pd.NaT)\n",
    "\n",
    "df = df[df['date'].notna()].reset_index(drop=True)\n",
    "\n",
    "print(df.head())\n",
    "print(\"\\n ________________________________________________INFO__________________________________________ \\n\")\n",
    "print(df.info())\n"
   ]
  },
  {
   "cell_type": "code",
   "execution_count": 51,
   "id": "cbd1d90a",
   "metadata": {},
   "outputs": [
    {
     "name": "stdout",
     "output_type": "stream",
     "text": [
      "Cleaned categories: ['Education' 'Rent' 'Freelance' 'Entertainment' 'Food' 'Salary'\n",
      " 'Utilities' 'Others' 'Travel' 'Investment' 'Health' 'Savings' 'Bonus']\n"
     ]
    }
   ],
   "source": [
    "category_corrections = {\n",
    "    'Educaton': 'Education',\n",
    "    'education': 'Education',\n",
    "    'EDU': 'Education',\n",
    "    'Edu': 'Education',\n",
    "\n",
    "    'rent': 'Rent',\n",
    "    'Rentt': 'Rent',\n",
    "    'RENT': 'Rent',\n",
    "    'Rnt': 'Rent',\n",
    "\n",
    "    'Foods': 'Food',\n",
    "    'FOOD': 'Food',\n",
    "    'food': 'Food',\n",
    "    'Foodd': 'Food',\n",
    "    'Fod': 'Food',\n",
    "\n",
    "    'entertainment': 'Entertainment',\n",
    "    'Entertainment': 'Entertainment',\n",
    "    'Entrtnmnt': 'Entertainment',\n",
    "    'Entertain': 'Entertainment',\n",
    "\n",
    "    'Utilties': 'Utilities',\n",
    "    'Utility': 'Utilities',\n",
    "    'Utlities': 'Utilities',\n",
    "    'utilities': 'Utilities',\n",
    "    'Utilities': 'Utilities',\n",
    "\n",
    "    'Travel': 'Travel',\n",
    "    'Travl': 'Travel',\n",
    "    'Traval': 'Travel',\n",
    "    'travel': 'Travel',\n",
    "    'TRAVEL': 'Travel',\n",
    "\n",
    "    'HEALTH': 'Health',\n",
    "    'Helth': 'Health',\n",
    "    'health': 'Health',\n",
    "    'Health': 'Health',\n",
    "\n",
    "    'savings': 'Savings',\n",
    "    'Saving': 'Savings',\n",
    "    'SAVINGS': 'Savings',\n",
    "    'Savings': 'Savings',\n",
    "\n",
    "    'Others': 'Others',\n",
    "    'others': 'Others',\n",
    "    'Other': 'Others',\n",
    "    'Misc': 'Others',\n",
    "\n",
    "}\n",
    "\n",
    "df['category'] = df['category'].replace(category_corrections)\n",
    "\n",
    "df['category'] = df['category'].str.title()\n",
    "\n",
    "df['category'] = df['category'].fillna('Others')\n",
    "\n",
    "print(\"Cleaned categories:\", df['category'].unique())\n"
   ]
  },
  {
   "cell_type": "code",
   "execution_count": 52,
   "id": "b0441abf",
   "metadata": {},
   "outputs": [
    {
     "name": "stdout",
     "output_type": "stream",
     "text": [
      "After cleaning payment_mode: ['Card' 'Unknown' 'Cash' 'UPI' 'Bank Transfer']\n"
     ]
    }
   ],
   "source": [
    "\n",
    "payment_mode_corrections = {\n",
    "    'card': 'Card',\n",
    "    'CARD': 'Card',\n",
    "    'Crd': 'Card',\n",
    "    'CRD': 'Card',\n",
    "    'csh': 'Cash',\n",
    "    'Csh': 'Cash',\n",
    "    'cash': 'Cash',\n",
    "    'Cash': 'Cash',\n",
    "    'CASH': 'Cash',\n",
    "    'upi': 'UPI',\n",
    "    'UPI': 'UPI',\n",
    "    'UPi': 'UPI',\n",
    "    'Upi': 'UPI',\n",
    "    'Bank Transfer': 'Bank Transfer',\n",
    "    'bank transfer': 'Bank Transfer',\n",
    "    'BankTransfer': 'Bank Transfer',\n",
    "    'Bank_Transfer': 'Bank Transfer',\n",
    "    'Bank Transfr': 'Bank Transfer',\n",
    "}\n",
    "\n",
    "df['payment_mode'] = df['payment_mode'].replace(payment_mode_corrections)\n",
    "df['payment_mode'] = df['payment_mode'].fillna('Unknown')\n",
    "\n",
    "print(\"After cleaning payment_mode:\", df['payment_mode'].unique())\n"
   ]
  },
  {
   "cell_type": "code",
   "execution_count": 53,
   "id": "d9a12699",
   "metadata": {},
   "outputs": [
    {
     "name": "stdout",
     "output_type": "stream",
     "text": [
      "Missing values count:\n",
      "notes       2730\n",
      "location    1229\n",
      "dtype: int64\n"
     ]
    }
   ],
   "source": [
    "print(\"Missing values count:\")\n",
    "print(df[['notes', 'location']].isna().sum())\n"
   ]
  },
  {
   "cell_type": "code",
   "execution_count": 54,
   "id": "5a6b7bc0",
   "metadata": {},
   "outputs": [
    {
     "name": "stdout",
     "output_type": "stream",
     "text": [
      "Missing values after filling:\n",
      "notes       0\n",
      "location    0\n",
      "dtype: int64\n"
     ]
    }
   ],
   "source": [
    "df['notes'] = df['notes'].fillna('No notes')\n",
    "df['location'] = df['location'].fillna('Unknown')\n",
    "\n",
    "print(\"Missing values after filling:\")\n",
    "print(df[['notes', 'location']].isna().sum())\n"
   ]
  },
  {
   "cell_type": "code",
   "execution_count": 55,
   "id": "ca20a992",
   "metadata": {},
   "outputs": [
    {
     "name": "stdout",
     "output_type": "stream",
     "text": [
      "Amount column type: object\n",
      "Missing or invalid amounts: 3351\n",
      "Zero or negative amounts: 188\n",
      "Rows after cleaning amounts: 11875\n"
     ]
    }
   ],
   "source": [
    "print(\"Amount column type:\", df['amount'].dtype)\n",
    "\n",
    "df['amount'] = pd.to_numeric(df['amount'], errors='coerce')\n",
    "\n",
    "print(\"Missing or invalid amounts:\", df['amount'].isna().sum())\n",
    "\n",
    "print(\"Zero or negative amounts:\", (df['amount'] <= 0).sum())\n",
    "\n",
    "df = df[df['amount'] > 0].reset_index(drop=True)\n",
    "\n",
    "print(\"Rows after cleaning amounts:\", len(df))\n"
   ]
  },
  {
   "cell_type": "code",
   "execution_count": 56,
   "id": "b0f84cda",
   "metadata": {},
   "outputs": [
    {
     "name": "stdout",
     "output_type": "stream",
     "text": [
      "Rows after dropping missing amounts: 11875\n"
     ]
    }
   ],
   "source": [
    "df = df[df['amount'].notna()].reset_index(drop=True)\n",
    "print(\"Rows after dropping missing amounts:\", len(df))\n",
    "\n"
   ]
  },
  {
   "cell_type": "code",
   "execution_count": 57,
   "id": "f41954b5",
   "metadata": {},
   "outputs": [],
   "source": [
    "df.to_csv('dataset_cleaned.csv', index=False)\n"
   ]
  }
 ],
 "metadata": {
  "kernelspec": {
   "display_name": ".venv",
   "language": "python",
   "name": "python3"
  },
  "language_info": {
   "codemirror_mode": {
    "name": "ipython",
    "version": 3
   },
   "file_extension": ".py",
   "mimetype": "text/x-python",
   "name": "python",
   "nbconvert_exporter": "python",
   "pygments_lexer": "ipython3",
   "version": "3.12.3"
  }
 },
 "nbformat": 4,
 "nbformat_minor": 5
}
